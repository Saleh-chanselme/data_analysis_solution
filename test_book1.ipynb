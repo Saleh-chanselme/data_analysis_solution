{
  "cells": [
    {
      "cell_type": "markdown",
      "metadata": {
        "id": "VQzdTEd20OQQ"
      },
      "source": []
    },
    {
      "cell_type": "markdown",
      "metadata": {
        "id": "qD7z9hrS0QHi"
      },
      "source": [
        "# Notebook 1 - Fondamentaux Python pour l'IA\n",
        "# Analyse de données météorologiques en temps réel\n",
        "\n",
        "🎯 Objectifs pédagogiques\n",
        "\n",
        "Maîtriser les structures de données Python essentielles\n",
        "Consommer des APIs REST avec requests\n",
        "Manipuler des données JSON et CSV\n",
        "Créer des visualisations basiques\n",
        "Appliquer des statistiques descriptives\n",
        "\n",
        "🌤️ Contexte du projet\n",
        "\n",
        "Vous travaillez pour une startup AgTech qui développe des solutions d'agriculture intelligente. Votre mission : analyser les données météorologiques de plusieurs villes européennes pour optimiser les recommandations de plantation."
      ]
    },
    {
      "cell_type": "markdown",
      "metadata": {
        "id": "InXafSSW05HB"
      },
      "source": [
        "Partie 1 : Connexion aux APIs météo\n",
        "\n",
        "🔧 Installation des bibliothèques\n",
        "\n",
        "\n",
        " À exécuter dans votre terminal ou cellule\n",
        "# pip install requests pandas matplotlib seaborn numpy"
      ]
    },
    {
      "cell_type": "code",
      "execution_count": 1,
      "metadata": {
        "id": "VRX6x9eF08hL"
      },
      "outputs": [],
      "source": [
        "#📥 Import et configuration\n",
        "import requests\n",
        "import pandas as pd\n",
        "import numpy as np\n",
        "import matplotlib.pyplot as plt\n",
        "import seaborn as sns\n",
        "from datetime import datetime, timedelta, date\n",
        "from datetime import timedelta\n",
        "import json\n",
        "import os\n",
        "from dotenv import load_dotenv"
      ]
    },
    {
      "cell_type": "markdown",
      "metadata": {
        "id": "cclqgdw01aGL"
      },
      "source": [
        "🌍 API OpenWeatherMap (gratuite)\n",
        "\n",
        "Inscription : Créez un compte sur openweathermap.org\n",
        "\n",
        "\n",
        "Clé API : Récupérez votre clé gratuite (40 000 appels/mois)\n",
        "\n"
      ]
    },
    {
      "cell_type": "code",
      "execution_count": 2,
      "metadata": {},
      "outputs": [
        {
          "name": "stdout",
          "output_type": "stream",
          "text": [
            "1753894455\n",
            "1753289655\n"
          ]
        }
      ],
      "source": [
        "today = datetime.now()\n",
        "start_point = today - timedelta(days=7)\n",
        "\n",
        "today = round(today.timestamp())\n",
        "start_point = round(start_point.timestamp())\n",
        "print(today)\n",
        "print(start_point)"
      ]
    },
    {
      "cell_type": "code",
      "execution_count": 65,
      "metadata": {},
      "outputs": [],
      "source": [
        "# Configuration API\n",
        "API_KEY = os.getenv(\"API_KEY\")\n",
        "BASE_URL = \"http://api.openweathermap.org/data/2.5\"\n",
        "\n",
        "# Villes à analyser (agriculture européenne)\n",
        "CITIES = [\"Paris\", \"Berlin\", \"Madrid\", \"Rome, Lazio\", \"Amsterdam\", \"Vienna\"]"
      ]
    },
    {
      "cell_type": "code",
      "execution_count": 4,
      "metadata": {},
      "outputs": [
        {
          "name": "stdout",
          "output_type": "stream",
          "text": [
            "Paris (48.8588897, 2.3200410217200766)\n",
            "Berlin (52.5170365, 13.3888599)\n",
            "Madrid (40.4167047, -3.7035825)\n",
            "Rome (41.8933203, 12.4829321)\n",
            "Amsterdam (52.3727598, 4.8936041)\n",
            "Vienna (48.2083537, 16.3725042)\n"
          ]
        }
      ],
      "source": [
        "### 🗺️ Obtenir les coordonnées\n",
        "def get_city_coordinates(city):\n",
        "    \"\"\"\n",
        "    Utilise l'API Geocoding d'OpenWeatherMap\n",
        "    URL : http://api.openweathermap.org/geo/1.0/direct\n",
        "\n",
        "    Récupérez lat/lon pour chaque ville\n",
        "    \"\"\"\n",
        "    # load APi key from dotenv \n",
        "    load_dotenv()\n",
        "    # url \n",
        "    URL =\"http://api.openweathermap.org/geo/1.0/direct\"\n",
        "    # our parameters that we will use to make the rquest\n",
        "    params = {\n",
        "        \"q\": c,\n",
        "        \"appid\" : API_KEY,\n",
        "        \"limit\" : 1\n",
        "    }\n",
        "    #send the request and get back json object the extract lat and lon \n",
        "    try : \n",
        "        responde = requests.get(URL, params=params)\n",
        "        geo = responde.json()\n",
        "        lat = geo[0]['lat']\n",
        "        lon = geo[0]['lon']\n",
        "        return lat, lon\n",
        "    # errors \n",
        "    except requests.exceptions.HTTPError as http_err :\n",
        "        if responde.status_code == 404 :\n",
        "            print(f\"No coordinates found for {city}\")\n",
        "        else:\n",
        "            print(f\"Failed to get coordinates {city}, {http_err}\")\n",
        "            return None, None\n",
        "    except Exception as err:\n",
        "        print(f\"UNexpected Error {err}\")\n",
        "        return None, None\n",
        "        \n",
        "for c in CITIES :\n",
        "    lat, lon = get_city_coordinates(c)\n",
        "    print(f\"{c} {get_city_coordinates(c)}\")\n",
        "    "
      ]
    },
    {
      "cell_type": "code",
      "execution_count": 5,
      "metadata": {
        "id": "90O22MX50sjB"
      },
      "outputs": [
        {
          "data": {
            "text/plain": [
              "{'coord': {'lon': 2.3488, 'lat': 48.8534},\n",
              " 'weather': [{'id': 803,\n",
              "   'main': 'Clouds',\n",
              "   'description': 'broken clouds',\n",
              "   'icon': '04d'}],\n",
              " 'base': 'stations',\n",
              " 'main': {'temp': 24.18,\n",
              "  'feels_like': 24.22,\n",
              "  'temp_min': 22.9,\n",
              "  'temp_max': 25.04,\n",
              "  'pressure': 1018,\n",
              "  'humidity': 60,\n",
              "  'sea_level': 1018,\n",
              "  'grnd_level': 1008},\n",
              " 'visibility': 10000,\n",
              " 'wind': {'speed': 4.12, 'deg': 10},\n",
              " 'clouds': {'all': 75},\n",
              " 'dt': 1753894367,\n",
              " 'sys': {'type': 1,\n",
              "  'id': 6550,\n",
              "  'country': 'FR',\n",
              "  'sunrise': 1753849276,\n",
              "  'sunset': 1753903957},\n",
              " 'timezone': 7200,\n",
              " 'id': 2988507,\n",
              " 'name': 'Paris',\n",
              " 'cod': 200}"
            ]
          },
          "execution_count": 5,
          "metadata": {},
          "output_type": "execute_result"
        }
      ],
      "source": [
        "### 💡 Première requête guidée\n",
        "\n",
        "def get_weather_data(city):\n",
        "    \"\"\"\n",
        "    Récupère les données météo actuelles pour une ville\n",
        "\n",
        "    Étapes à compléter :\n",
        "    1. Construire l'URL avec les paramètres\n",
        "    2. Faire l'appel API avec requests.get()\n",
        "    3. Vérifier le status code\n",
        "    4. Retourner les données JSON\n",
        "    \"\"\"\n",
        "    load_dotenv()\n",
        "    api_key = os.getenv(\"API_KEY\")\n",
        "    # URL : current weather data\n",
        "    url = f\"{BASE_URL}/weather\"\n",
        "    # Paramètres à compléter\n",
        "    params = {\n",
        "        'q': city,\n",
        "        'appid': api_key,\n",
        "        'units': 'metric',  # Celsius\n",
        "        'lang': 'en'\n",
        "    }\n",
        "    try :\n",
        "        responde = requests.get(url, params=params)\n",
        "        responde.raise_for_status()\n",
        "        data = responde.json()\n",
        "        return data\n",
        "    except requests.exceptions.HTTPError as http_err:\n",
        "        if responde.status_code == 404 :\n",
        "            print(f\"City is not found {city}\")\n",
        "        else :\n",
        "            print(f\"HTTP Error Is Occurred :{http_err}\")\n",
        "        return None\n",
        "    except Exception as err:\n",
        "        print(f\"Unexpected Error {err}\")\n",
        "        return None\n",
        "get_weather_data(\"Paris\")\n"
      ]
    },
    {
      "cell_type": "markdown",
      "metadata": {
        "id": "jUpfp5TW2mY_"
      },
      "source": []
    },
    {
      "cell_type": "markdown",
      "metadata": {
        "id": "XN6RPmCr2qDp"
      },
      "source": [
        "**Questions de débogage :**\n",
        "- Que faire si l'API retourne une erreur 401 ?\n",
        "- Comment gérer une ville introuvable ?\n",
        "\n",
        "---"
      ]
    },
    {
      "cell_type": "markdown",
      "metadata": {
        "id": "KL0MS3RJ263K"
      },
      "source": [
        "## Partie 2 : API complémentaire - Données historiques\n",
        "\n",
        "### 📊 API Visual Crossing Weather (gratuite)\n",
        "Alternative avec 1000 appels/jour gratuits : [visualcrossing.com](https://www.visualcrossing.com/weather-api)"
      ]
    },
    {
      "cell_type": "code",
      "execution_count": 57,
      "metadata": {
        "id": "6OK5bXQy0srW"
      },
      "outputs": [],
      "source": [
        "# Configuration Visual Crossing\n",
        "load_dotenv()\n",
        "VC_API_KEY = os.getenv(\"API_KEY2\")\n",
        "VC_BASE_URL = \"https://weather.visualcrossing.com/VisualCrossingWebServices/rest/services/timeline\"\n",
        "\n",
        "def get_historical_weather(city, start_date, end_date):\n",
        "    \"\"\"\n",
        "    Récupère les données météo historiques\n",
        "\n",
        "    Défis à résoudre :\n",
        "    1. Construire l'URL avec les dates\n",
        "    2. Gérer la pagination si nécessaire\n",
        "    3. Extraire les données pertinentes du JSON complexe\n",
        "    4. Convertir en DataFrame pandas\n",
        "    \"\"\"\n",
        "\n",
        "    url = f\"{VC_BASE_URL}/{city}/{start_date}/{end_date}\"\n",
        "    params = {\n",
        "        'key': VC_API_KEY,\n",
        "        'include': 'days',\n",
        "        'elements': 'datetime,temp,humidity,precip,windspeed,pressure'\n",
        "    }\n",
        "    try :\n",
        "        response = requests.get(url, params=params)\n",
        "        response.raise_for_status()\n",
        "        histo_weather = response.json()\n",
        "        data_historic = histo_weather[\"days\"]\n",
        "        print(data_historic)\n",
        "        return data_historic\n",
        "    except requests.exceptions.HTTPError as http_err:\n",
        "        if response.status_code == 404 :\n",
        "            print(f\"city is not found {city}, or wronge date{start_date}, {end_date}\")\n",
        "        else :\n",
        "            print(f\"HTTP Error Is Occurred: {http_err}\")\n",
        "    except Exception as err:\n",
        "        print(f\"Unexpected Error {err}\")\n",
        "# weather_h = get_historical_weather(\"Paris\", start_point, today)\n",
        "# print(weather_h)\n"
      ]
    },
    {
      "cell_type": "code",
      "execution_count": 64,
      "metadata": {},
      "outputs": [
        {
          "name": "stdout",
          "output_type": "stream",
          "text": [
            "HTTP Error Is Occurred: 429 Client Error:  for url: https://weather.visualcrossing.com/VisualCrossingWebServices/rest/services/timeline/Paris/1753289655/1753894455?key=CG7WRZ9SZTKEK4TBHZ5245BSC&include=days&elements=datetime%2Ctemp%2Chumidity%2Cprecip%2Cwindspeed%2Cpressure\n",
            "None\n",
            "HTTP Error Is Occurred: 429 Client Error:  for url: https://weather.visualcrossing.com/VisualCrossingWebServices/rest/services/timeline/Berlin/1753289655/1753894455?key=CG7WRZ9SZTKEK4TBHZ5245BSC&include=days&elements=datetime%2Ctemp%2Chumidity%2Cprecip%2Cwindspeed%2Cpressure\n",
            "None\n",
            "HTTP Error Is Occurred: 429 Client Error:  for url: https://weather.visualcrossing.com/VisualCrossingWebServices/rest/services/timeline/Madrid/1753289655/1753894455?key=CG7WRZ9SZTKEK4TBHZ5245BSC&include=days&elements=datetime%2Ctemp%2Chumidity%2Cprecip%2Cwindspeed%2Cpressure\n",
            "None\n",
            "HTTP Error Is Occurred: 429 Client Error:  for url: https://weather.visualcrossing.com/VisualCrossingWebServices/rest/services/timeline/Rome,%20Lazio/1753289655/1753894455?key=CG7WRZ9SZTKEK4TBHZ5245BSC&include=days&elements=datetime%2Ctemp%2Chumidity%2Cprecip%2Cwindspeed%2Cpressure\n",
            "None\n",
            "HTTP Error Is Occurred: 429 Client Error:  for url: https://weather.visualcrossing.com/VisualCrossingWebServices/rest/services/timeline/Amsterdam/1753289655/1753894455?key=CG7WRZ9SZTKEK4TBHZ5245BSC&include=days&elements=datetime%2Ctemp%2Chumidity%2Cprecip%2Cwindspeed%2Cpressure\n",
            "None\n",
            "HTTP Error Is Occurred: 429 Client Error:  for url: https://weather.visualcrossing.com/VisualCrossingWebServices/rest/services/timeline/Vienna/1753289655/1753894455?key=CG7WRZ9SZTKEK4TBHZ5245BSC&include=days&elements=datetime%2Ctemp%2Chumidity%2Cprecip%2Cwindspeed%2Cpressure\n",
            "None\n"
          ]
        }
      ],
      "source": [
        "cities_hw = []\n",
        "for c in CITIES :\n",
        "    data_historic = get_historical_weather(c, start_point, today)\n",
        "    print(data_historic)        \n",
        "    # data_historic = get_historical_weather(c, start_point, today)\n",
        "    # print(data_historic)\n",
        "#     for day in data_historic :\n",
        "#         cities_hw.append({\n",
        "#             \"city\" : c,\n",
        "#             'datetime': day[\"datetime\"],\n",
        "#             'temperature': day[\"temp\"],\n",
        "#             'humidity': day[\"humidity\"],\n",
        "#             'precipitation': day[\"precip\"],\n",
        "#             'wind_speed': day[\"windspeed\"],\n",
        "#             'pressure': day[\"pressure\"]\n",
        "#         })\n",
        "# print(cities_hw)"
      ]
    },
    {
      "cell_type": "markdown",
      "metadata": {
        "id": "WiSgjF2V3JOv"
      },
      "source": [
        "### 🎯 Mission pratique\n",
        "Récupérez les données des 30 derniers jours pour toutes vos villes et créez un DataFrame consolidé.\n",
        "\n",
        "**Structure attendue :**\n",
        "```\n",
        "| date       | ville     | temperature | humidite | precipitation | vent |\n",
        "|------------|-----------|-------------|----------|---------------|------|\n",
        "| 2024-01-01 | Paris     | 12.5        | 75       | 2.3          | 15   |\n",
        "```\n",
        "\n",
        "---\n"
      ]
    },
    {
      "cell_type": "code",
      "execution_count": 109,
      "metadata": {
        "id": "iR8RHaqM0suN"
      },
      "outputs": [
        {
          "name": "stdout",
          "output_type": "stream",
          "text": [
            "[{'city': 'Paris', 'lat': 48.8588897, 'lon': 2.3200410217200766, 'aqi': 2, 'co': 108.68, 'no': 0.01, 'no2': 1.52, 'o3': 68.06, 'so2': 0.31, 'pm2_5': 2.44, 'pm10': 2.65, 'nh3': 1.92}, {'city': 'London', 'lat': 51.5073219, 'lon': -0.1276474, 'aqi': 2, 'co': 119.01, 'no': 0.2, 'no2': 9.35, 'o3': 70.34, 'so2': 4.55, 'pm2_5': 4.13, 'pm10': 6.67, 'nh3': 0.67}, {'city': 'Berlin', 'lat': 52.5170365, 'lon': 13.3888599, 'aqi': 2, 'co': 124.42, 'no': 0.03, 'no2': 7.2, 'o3': 62.21, 'so2': 1.03, 'pm2_5': 1.94, 'pm10': 2.55, 'nh3': 7.36}]\n"
          ]
        }
      ],
      "source": [
        "# Charger les variables d’environnement\n",
        "load_dotenv()\n",
        "API_KEY = os.getenv(\"API_KEY\")\n",
        "\n",
        "# Fonction pour obtenir les coordonnées d’une ville\n",
        "def get_city_coordinates(city):\n",
        "    url = \"http://api.openweathermap.org/geo/1.0/direct\"\n",
        "    params = {\n",
        "        \"q\": city,\n",
        "        \"limit\": 1,\n",
        "        \"appid\": API_KEY\n",
        "    }\n",
        "    try:\n",
        "        response = requests.get(url, params=params)\n",
        "        response.raise_for_status()\n",
        "        data = response.json()\n",
        "        if data:\n",
        "            return data[0][\"lat\"], data[0][\"lon\"]\n",
        "        else:\n",
        "            print(f\"[!] No coordinates found for {city}\")\n",
        "            return None, None\n",
        "    except Exception as e:\n",
        "        print(f\"[ERROR] Failed to get coordinates for {city}: {e}\")\n",
        "        return None, None\n",
        "\n",
        "# Fonction pour obtenir la qualité de l’air\n",
        "def get_air_quality(lat, lon):\n",
        "    url = \"http://api.openweathermap.org/data/2.5/air_pollution\"\n",
        "    params = {\n",
        "        \"lat\": lat,\n",
        "        \"lon\": lon,\n",
        "        \"appid\": API_KEY\n",
        "    }\n",
        "    try:\n",
        "        response = requests.get(url, params=params)\n",
        "        response.raise_for_status()\n",
        "        air_q = response.json()\n",
        "        if air_q and \"list\" in air_q and air_q[\"list\"]:\n",
        "            info = air_q['list'][0]\n",
        "            aqi = info.get('main', {})\n",
        "            comp = info.get('components', {})\n",
        "            return aqi, comp\n",
        "        else:\n",
        "            print(f\"[!] No air quality data returned for {lat}, {lon}\")\n",
        "            return None, None\n",
        "    except Exception as e:\n",
        "        print(f\"[ERROR] Failed to get air quality data: {e}\")\n",
        "        return None, None\n",
        "\n",
        "# Liste des villes\n",
        "CITIES = ['Paris', 'London', 'Berlin']\n",
        "\n",
        "# Collecte des données\n",
        "all_air_q = []\n",
        "for city in CITIES:\n",
        "    lat, lon = get_city_coordinates(city)\n",
        "    if lat is None or lon is None:\n",
        "        continue  # skip this city if coordinates not found\n",
        "\n",
        "    aqi, comp = get_air_quality(lat, lon)\n",
        "    if aqi is None or comp is None:\n",
        "        continue  # skip if API failed\n",
        "\n",
        "    all_air_q.append({\n",
        "        \"city\": city,\n",
        "        \"lat\": lat,\n",
        "        \"lon\": lon,\n",
        "        \"aqi\": aqi.get(\"aqi\"),\n",
        "        \"co\": comp.get(\"co\"),\n",
        "        \"no\": comp.get(\"no\"),\n",
        "        \"no2\": comp.get(\"no2\"),\n",
        "        \"o3\": comp.get(\"o3\"),\n",
        "        \"so2\": comp.get(\"so2\"),\n",
        "        \"pm2_5\": comp.get(\"pm2_5\"),\n",
        "        \"pm10\": comp.get(\"pm10\"),\n",
        "        \"nh3\": comp.get(\"nh3\")\n",
        "    })\n",
        "\n",
        "# Affichage des résultats\n",
        "print(all_air_q)"
      ]
    },
    {
      "cell_type": "code",
      "execution_count": 110,
      "metadata": {},
      "outputs": [],
      "source": [
        "df_weather = pd.DataFrame(all_air_q)"
      ]
    },
    {
      "cell_type": "code",
      "execution_count": 111,
      "metadata": {},
      "outputs": [
        {
          "data": {
            "text/html": [
              "<div>\n",
              "<style scoped>\n",
              "    .dataframe tbody tr th:only-of-type {\n",
              "        vertical-align: middle;\n",
              "    }\n",
              "\n",
              "    .dataframe tbody tr th {\n",
              "        vertical-align: top;\n",
              "    }\n",
              "\n",
              "    .dataframe thead th {\n",
              "        text-align: right;\n",
              "    }\n",
              "</style>\n",
              "<table border=\"1\" class=\"dataframe\">\n",
              "  <thead>\n",
              "    <tr style=\"text-align: right;\">\n",
              "      <th></th>\n",
              "      <th>city</th>\n",
              "      <th>lat</th>\n",
              "      <th>lon</th>\n",
              "      <th>aqi</th>\n",
              "      <th>co</th>\n",
              "      <th>no</th>\n",
              "      <th>no2</th>\n",
              "      <th>o3</th>\n",
              "      <th>so2</th>\n",
              "      <th>pm2_5</th>\n",
              "      <th>pm10</th>\n",
              "      <th>nh3</th>\n",
              "    </tr>\n",
              "  </thead>\n",
              "  <tbody>\n",
              "    <tr>\n",
              "      <th>0</th>\n",
              "      <td>Paris</td>\n",
              "      <td>48.858890</td>\n",
              "      <td>2.320041</td>\n",
              "      <td>2</td>\n",
              "      <td>108.68</td>\n",
              "      <td>0.01</td>\n",
              "      <td>1.52</td>\n",
              "      <td>68.06</td>\n",
              "      <td>0.31</td>\n",
              "      <td>2.44</td>\n",
              "      <td>2.65</td>\n",
              "      <td>1.92</td>\n",
              "    </tr>\n",
              "    <tr>\n",
              "      <th>1</th>\n",
              "      <td>London</td>\n",
              "      <td>51.507322</td>\n",
              "      <td>-0.127647</td>\n",
              "      <td>2</td>\n",
              "      <td>119.01</td>\n",
              "      <td>0.20</td>\n",
              "      <td>9.35</td>\n",
              "      <td>70.34</td>\n",
              "      <td>4.55</td>\n",
              "      <td>4.13</td>\n",
              "      <td>6.67</td>\n",
              "      <td>0.67</td>\n",
              "    </tr>\n",
              "    <tr>\n",
              "      <th>2</th>\n",
              "      <td>Berlin</td>\n",
              "      <td>52.517037</td>\n",
              "      <td>13.388860</td>\n",
              "      <td>2</td>\n",
              "      <td>124.42</td>\n",
              "      <td>0.03</td>\n",
              "      <td>7.20</td>\n",
              "      <td>62.21</td>\n",
              "      <td>1.03</td>\n",
              "      <td>1.94</td>\n",
              "      <td>2.55</td>\n",
              "      <td>7.36</td>\n",
              "    </tr>\n",
              "  </tbody>\n",
              "</table>\n",
              "</div>"
            ],
            "text/plain": [
              "     city        lat        lon  aqi      co    no   no2     o3   so2  pm2_5  \\\n",
              "0   Paris  48.858890   2.320041    2  108.68  0.01  1.52  68.06  0.31   2.44   \n",
              "1  London  51.507322  -0.127647    2  119.01  0.20  9.35  70.34  4.55   4.13   \n",
              "2  Berlin  52.517037  13.388860    2  124.42  0.03  7.20  62.21  1.03   1.94   \n",
              "\n",
              "   pm10   nh3  \n",
              "0  2.65  1.92  \n",
              "1  6.67  0.67  \n",
              "2  2.55  7.36  "
            ]
          },
          "execution_count": 111,
          "metadata": {},
          "output_type": "execute_result"
        }
      ],
      "source": [
        "df_weather"
      ]
    },
    {
      "cell_type": "markdown",
      "metadata": {
        "id": "v02lzUOv3kp6"
      },
      "source": [
        "\n",
        "## Partie 4 : Analyse et visualisation\n",
        "\n",
        "### 📈 Analyses à réaliser\n",
        "\n",
        "1. **Comparaison inter-villes**\n",
        "   - Températures moyennes par ville\n",
        "   - Variabilité climatique (écart-type)\n",
        "   - Corrélations température/humidité\n",
        "\n",
        "2. **Tendances temporelles**\n",
        "   - Évolution sur 30 jours\n",
        "   - Identification des patterns\n",
        "\n",
        "3. **Qualité de l'air vs météo**\n",
        "   - Impact de la pluie sur la pollution\n",
        "   - Corrélations vent/qualité de l'air"
      ]
    },
    {
      "cell_type": "code",
      "execution_count": 8,
      "metadata": {
        "colab": {
          "base_uri": "https://localhost:8080/",
          "height": 51
        },
        "id": "IQb6JSIp3VSD",
        "outputId": "542a1e6a-381e-40c4-a65a-c21522e3b42d"
      },
      "outputs": [
        {
          "data": {
            "text/plain": [
              "<Figure size 1500x800 with 0 Axes>"
            ]
          },
          "execution_count": 8,
          "metadata": {},
          "output_type": "execute_result"
        },
        {
          "data": {
            "text/plain": [
              "<Figure size 1500x800 with 0 Axes>"
            ]
          },
          "metadata": {},
          "output_type": "display_data"
        }
      ],
      "source": [
        "### 💡 Visualisations guidées\n",
        "\n",
        "# 1. Heatmap des températures par ville et jour\n",
        "plt.figure(figsize=(15, 8))\n",
        "\n",
        "# Créez un pivot table : villes en colonnes, dates en lignes\n",
        "# Utilisez seaborn.heatmap()\n",
        "\n",
        "# 2. Boxplot comparatif des précipitations\n",
        "# Utilisez seaborn.boxplot()\n",
        "\n",
        "# 3. Scatter plot qualité air vs température\n",
        "# Ajoutez une regression line avec seaborn.regplot()\n",
        "\n"
      ]
    },
    {
      "cell_type": "markdown",
      "metadata": {
        "id": "U3OFGeR437l0"
      },
      "source": [
        "## Partie 5 : API bonus - Données agricoles\n",
        "\n",
        "### 🌱 API AgroMonitoring (gratuite)"
      ]
    },
    {
      "cell_type": "code",
      "execution_count": 9,
      "metadata": {
        "id": "9PZMkaLO3zAK"
      },
      "outputs": [],
      "source": [
        "# API satellite pour l'agriculture\n",
        "AGRO_API_KEY = \"VOTRE_CLE_AGROMONITORING\"\n",
        "\n",
        "def get_soil_data(polygon_coordinates, api_key):\n",
        "    \"\"\"\n",
        "    Récupère des données de sol via satellite\n",
        "    URL : http://api.agromonitoring.com/agro/1.0/\n",
        "\n",
        "    Données disponibles :\n",
        "    - Indices de végétation (NDVI)\n",
        "    - Humidité du sol\n",
        "    - Température de surface\n",
        "    \"\"\"\n",
        "    pass\n"
      ]
    },
    {
      "cell_type": "markdown",
      "metadata": {
        "id": "9U_DNqp24DD6"
      },
      "source": [
        "\n",
        "**Défi avancé :** Créez des recommandations de plantation basées sur :\n",
        "- Données météo des 30 derniers jours\n",
        "- Prévisions à 5 jours\n",
        "- Qualité de l'air\n",
        "- Indices de végétation satellite\n",
        "\n"
      ]
    },
    {
      "cell_type": "markdown",
      "metadata": {
        "id": "W15DybdE4Ksu"
      },
      "source": [
        "## 🏆 Livrables attendus\n",
        "\n",
        "### 📊 Dashboard météo\n",
        "Créez un tableau de bord contenant :\n",
        "1. **Aperçu temps réel** des 6 villes\n",
        "2. **Graphiques de tendances** sur 30 jours\n",
        "3. **Alertes qualité de l'air** (AQI > 100)\n",
        "4. **Recommandations agricoles** par ville"
      ]
    },
    {
      "cell_type": "code",
      "execution_count": 10,
      "metadata": {
        "id": "46lA8m084ULP"
      },
      "outputs": [],
      "source": [
        "### 📱 Format de présentation\n",
        "\n",
        "def generate_weather_report(city_data):\n",
        "    \"\"\"\n",
        "    Génère un rapport automatisé\n",
        "\n",
        "    Format :\n",
        "    - Résumé exécutif (3 lignes)\n",
        "    - Métriques clés (tableaux)\n",
        "    - Graphiques (4 visualisations)\n",
        "    - Recommandations (bullet points)\n",
        "    \"\"\"\n",
        "    pass"
      ]
    },
    {
      "cell_type": "markdown",
      "metadata": {
        "id": "eqxVMuuh4Qsq"
      },
      "source": [
        "---\n",
        "\n",
        "## 🎓 Critères d'évaluation\n",
        "\n",
        "- [ ] **APIs fonctionnelles** : Toutes les connexions API marchent\n",
        "- [ ] **Gestion d'erreurs** : Code robuste avec try/except\n",
        "- [ ] **Qualité des données** : Validation et nettoyage\n",
        "- [ ] **Visualisations** : Graphiques informatifs et esthétiques\n",
        "- [ ] **Insights business** : Recommandations basées sur les données\n",
        "\n",
        "### 🔗 Préparation au Notebook 2\n",
        "Le prochain notebook utilisera une vraie base de données PostgreSQL hébergée pour analyser des données de ventes e-commerce, en croisant avec vos données météo pour des analyses géolocalisées.\n",
        "\n",
        "### 📚 APIs alternatives (si quotas dépassés)\n",
        "- **WeatherAPI** : 1M appels/mois gratuits\n",
        "- **AccuWeather** : 50 appels/jour gratuits  \n",
        "- **Climatiq** : Données climat et carbone\n",
        "- **NASA APIs** : Données satellite gratuites"
      ]
    }
  ],
  "metadata": {
    "colab": {
      "provenance": []
    },
    "kernelspec": {
      "display_name": ".venv",
      "language": "python",
      "name": "python3"
    },
    "language_info": {
      "codemirror_mode": {
        "name": "ipython",
        "version": 3
      },
      "file_extension": ".py",
      "mimetype": "text/x-python",
      "name": "python",
      "nbconvert_exporter": "python",
      "pygments_lexer": "ipython3",
      "version": "3.13.3"
    }
  },
  "nbformat": 4,
  "nbformat_minor": 0
}
