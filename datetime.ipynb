{
 "cells": [
  {
   "cell_type": "markdown",
   "id": "0ad15761",
   "metadata": {},
   "source": [
    "## Gestion de dates en python : package datetime"
   ]
  },
  {
   "cell_type": "code",
   "execution_count": 3,
   "id": "7ffd659c",
   "metadata": {},
   "outputs": [],
   "source": [
    "import datetime"
   ]
  },
  {
   "cell_type": "markdown",
   "id": "edf4d169",
   "metadata": {},
   "source": [
    "`datetime.date` : Représente une date (année, mois, jour) sans heure"
   ]
  },
  {
   "cell_type": "code",
   "execution_count": 4,
   "id": "01fe3a6f",
   "metadata": {},
   "outputs": [
    {
     "name": "stdout",
     "output_type": "stream",
     "text": [
      "Nous sommes le 2025-07-30\n",
      "<class 'datetime.date'>\n"
     ]
    }
   ],
   "source": [
    "today = datetime.date.today()\n",
    "print(\"Nous sommes le\", today)\n",
    "print(type(today))"
   ]
  },
  {
   "cell_type": "markdown",
   "id": "226b578e",
   "metadata": {},
   "source": [
    "`datetime.time` : Représente une heure (heure, minute, seconde, microseconde) sans date"
   ]
  },
  {
   "cell_type": "code",
   "execution_count": null,
   "id": "fa9d7153",
   "metadata": {},
   "outputs": [],
   "source": [
    "hour = datetime.time(9, 30, 45)\n",
    "print(hour)\n",
    "print(type(hour))"
   ]
  },
  {
   "cell_type": "markdown",
   "id": "19331400",
   "metadata": {},
   "source": [
    "`datetime.datetime` : Combine une date et une heure"
   ]
  },
  {
   "cell_type": "code",
   "execution_count": null,
   "id": "e4ba48b7",
   "metadata": {},
   "outputs": [],
   "source": [
    "now = datetime.datetime.now()\n",
    "print(now)\n",
    "print(type(now))"
   ]
  },
  {
   "cell_type": "markdown",
   "id": "fb42a7a6",
   "metadata": {},
   "source": [
    "`datetime.timedelta` : Représente une différence entre deux périodes temporelles"
   ]
  },
  {
   "cell_type": "code",
   "execution_count": null,
   "id": "95eb37ce",
   "metadata": {},
   "outputs": [],
   "source": [
    "today = datetime.date.today()\n",
    "a_week_later = today + datetime.timedelta(days=7)\n",
    "print(\"Dans une semaine, on sera le:\", a_week_later)"
   ]
  },
  {
   "cell_type": "code",
   "execution_count": null,
   "id": "01642154",
   "metadata": {},
   "outputs": [],
   "source": [
    "now = datetime.datetime.now()\n",
    "an_hour_later = now + datetime.timedelta(hours=1)\n",
    "print(\"Dans une heure, il sera:\", an_hour_later)"
   ]
  },
  {
   "cell_type": "markdown",
   "id": "677fc817",
   "metadata": {},
   "source": [
    "`datetime.strftime()` : String From Time --> Permet de formater une date"
   ]
  },
  {
   "cell_type": "code",
   "execution_count": null,
   "id": "c73ea31d",
   "metadata": {},
   "outputs": [],
   "source": [
    "now = datetime.datetime.now()\n",
    "now_string = now.strftime(\"%d-%m-%Y %H:%M\")\n",
    "print(now_string)\n",
    "print(type(now_string))"
   ]
  },
  {
   "cell_type": "markdown",
   "id": "48fbf8a5",
   "metadata": {},
   "source": [
    "`datetime.strptime()` : String Parse Time --> Formate une date à partir d'une chaîne de caractère"
   ]
  },
  {
   "cell_type": "code",
   "execution_count": null,
   "id": "4cf58599",
   "metadata": {},
   "outputs": [],
   "source": [
    "date_str = \"2025-12-31 23:59\"\n",
    "date_obj = datetime.datetime.strptime(date_str, \"%Y-%m-%d %H:%M\")\n",
    "print(date_obj)\n",
    "print(type(date_obj))"
   ]
  },
  {
   "cell_type": "markdown",
   "id": "ab1615c6",
   "metadata": {},
   "source": [
    "`.timestamp()` (horodatage)\n",
    "\n",
    "Le nombre de secondes écoulées depuis une date de référence universelle --> L'époque Unix (Unix Epoch) = le 1er janvier 1970 à 00:00:00 UTC.\n",
    "\n",
    "- timestamp : \n",
    "    - nombre (int ou float) : facile à stocker et rapide à comparer, \n",
    "    - évite les problèmes de format de date (DD/MM/YYYY ou MM-DD-YYYY ?),\n",
    "    - peu lisible pour un humain,\n",
    "    - souvent utilisés pour le stockage et l’interopérabilité.\n",
    "- objets date : souvent utilisés pour l’affichage, la gestion de fuseaux, etc."
   ]
  },
  {
   "cell_type": "code",
   "execution_count": null,
   "id": "d75c3f92",
   "metadata": {},
   "outputs": [],
   "source": [
    "datetime.datetime.now().timestamp()"
   ]
  },
  {
   "cell_type": "code",
   "execution_count": null,
   "id": "825baa65",
   "metadata": {},
   "outputs": [],
   "source": [
    "datetime_obj = datetime.datetime(2025, 7, 29, 16, 30)\n",
    "timestamp = datetime_obj.timestamp()\n",
    "print(timestamp)"
   ]
  },
  {
   "cell_type": "markdown",
   "id": "f03f04d7",
   "metadata": {},
   "source": [
    "`datetime.datetime.fromtimestamp(timestamp)` : conversion d'un timestamp en objet datetime"
   ]
  },
  {
   "cell_type": "code",
   "execution_count": null,
   "id": "461fc071",
   "metadata": {},
   "outputs": [],
   "source": [
    "timestamp = 1753779778.145\n",
    "datetime_obj = datetime.datetime.fromtimestamp(timestamp)\n",
    "print(datetime_obj)"
   ]
  }
 ],
 "metadata": {
  "kernelspec": {
   "display_name": ".venv",
   "language": "python",
   "name": "python3"
  },
  "language_info": {
   "codemirror_mode": {
    "name": "ipython",
    "version": 3
   },
   "file_extension": ".py",
   "mimetype": "text/x-python",
   "name": "python",
   "nbconvert_exporter": "python",
   "pygments_lexer": "ipython3",
   "version": "3.13.3"
  }
 },
 "nbformat": 4,
 "nbformat_minor": 5
}
