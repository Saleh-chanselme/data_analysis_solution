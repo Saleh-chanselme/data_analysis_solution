{
  "cells": [
    {
      "cell_type": "markdown",
      "metadata": {
        "id": "VQzdTEd20OQQ"
      },
      "source": []
    },
    {
      "cell_type": "markdown",
      "metadata": {
        "id": "qD7z9hrS0QHi"
      },
      "source": [
        "# Notebook 1 - Fondamentaux Python pour l'IA\n",
        "# Analyse de données météorologiques en temps réel\n",
        "\n",
        "🎯 Objectifs pédagogiques\n",
        "\n",
        "Maîtriser les structures de données Python essentielles\n",
        "Consommer des APIs REST avec requests\n",
        "Manipuler des données JSON et CSV\n",
        "Créer des visualisations basiques\n",
        "Appliquer des statistiques descriptives\n",
        "\n",
        "🌤️ Contexte du projet\n",
        "\n",
        "Vous travaillez pour une startup AgTech qui développe des solutions d'agriculture intelligente. Votre mission : analyser les données météorologiques de plusieurs villes européennes pour optimiser les recommandations de plantation."
      ]
    },
    {
      "cell_type": "markdown",
      "metadata": {
        "id": "InXafSSW05HB"
      },
      "source": [
        "Partie 1 : Connexion aux APIs météo\n",
        "\n",
        "🔧 Installation des bibliothèques\n",
        "\n",
        "\n",
        " À exécuter dans votre terminal ou cellule\n",
        "# pip install requests pandas matplotlib seaborn numpy"
      ]
    },
    {
      "cell_type": "code",
      "execution_count": 16,
      "metadata": {
        "id": "VRX6x9eF08hL"
      },
      "outputs": [],
      "source": [
        "#📥 Import et configuration\n",
        "import requests\n",
        "import pandas as pd\n",
        "import numpy as np\n",
        "import matplotlib.pyplot as plt\n",
        "import seaborn as sns\n",
        "from datetime import datetime, timedelta, date\n",
        "import json\n",
        "from dotenv import load_dotenv\n",
        "import os"
      ]
    },
    {
      "cell_type": "markdown",
      "metadata": {
        "id": "cclqgdw01aGL"
      },
      "source": [
        "🌍 API OpenWeatherMap (gratuite)\n",
        "\n",
        "Inscription : Créez un compte sur openweathermap.org\n",
        "\n",
        "\n",
        "Clé API : Récupérez votre clé gratuite (40 000 appels/mois)\n",
        "\n"
      ]
    },
    {
      "cell_type": "code",
      "execution_count": null,
      "metadata": {
        "id": "90O22MX50sjB"
      },
      "outputs": [],
      "source": [
        "### 💡 Première requête guidée\n",
        "def get_weather_data(city):\n",
        "    \"\"\"\n",
        "    Récupère les données météo actuelles pour une ville\n",
        "\n",
        "    Étapes à compléter :\n",
        "    1. Construire l'URL avec les paramètres\n",
        "    2. Faire l'appel API avec requests.get()\n",
        "    3. Vérifier le status code\n",
        "    4. Retourner les données JSON\n",
        "    \"\"\"\n",
        "    load_dotenv()\n",
        "    api_key = os.getenv(\"API_KEY_TEST\")\n",
        "    BASE_URL = \"http://api.openweathermap.org/data/2.5\"\n",
        "    # URL : current weather data\n",
        "    url = f\"{BASE_URL}/weather\"\n",
        "\n",
        "    # Paramètres à compléter\n",
        "    params = {\n",
        "        'q': city,\n",
        "        'appid': api_key,\n",
        "        'units': 'metric',  # Celsius\n",
        "        'lang': 'en'\n",
        "    }\n",
        "\n",
        "    # Votre code ici pour l'appel API\n",
        "    # Gérez les erreurs HTTP !\n",
        "    try :\n",
        "        # send a get request to the API with the url and the parameters \n",
        "        responde = requests.get(url, params=params)\n",
        "        \n",
        "        # raise an HTTP error if responde contains an error status code \n",
        "        responde.raise_for_status()\n",
        "        \n",
        "        # return the JSON content of the responde \n",
        "        return responde.json()\n",
        "        \n",
        "    #\n",
        "    except requests.exceptions.HTTPError as http_err:\n",
        "        \n",
        "        #if error code is 404 , the city is not found \n",
        "        if http_err == 404 :\n",
        "            \n",
        "            print(f\"The City {city} is not found!\")\n",
        "        else : \n",
        "            \n",
        "            #for other http errors print full error msg \n",
        "            print(f\"HTTP Error is occurred : {http_err} \")\n",
        "            \n",
        "    except Exception as err:\n",
        "        \n",
        "        #catch any unexpected errors \n",
        "        print('Unexpected Error :{err}')\n",
        "        \n",
        "    return None"
      ]
    },
    {
      "cell_type": "code",
      "execution_count": 11,
      "metadata": {},
      "outputs": [
        {
          "name": "stdout",
          "output_type": "stream",
          "text": [
            "{'coord': {'lon': -85.1647, 'lat': 34.257}, 'weather': [{'id': 800, 'main': 'Clear', 'description': 'clear sky', 'icon': '01n'}], 'base': 'stations', 'main': {'temp': 23.22, 'feels_like': 24.08, 'temp_min': 22.36, 'temp_max': 23.98, 'pressure': 1017, 'humidity': 95, 'sea_level': 1017, 'grnd_level': 990}, 'visibility': 10000, 'wind': {'speed': 0, 'deg': 0}, 'clouds': {'all': 0}, 'dt': 1753782831, 'sys': {'type': 2, 'id': 2009938, 'country': 'US', 'sunrise': 1753786170, 'sunset': 1753836272}, 'timezone': -14400, 'id': 4219762, 'name': 'Rome', 'cod': 200}\n"
          ]
        }
      ],
      "source": [
        "city_weather = get_weather_data(\"Rome, Lazio\")\n",
        "print(city_weather)"
      ]
    },
    {
      "cell_type": "code",
      "execution_count": null,
      "metadata": {
        "id": "Dsb-QIjE0slp"
      },
      "outputs": [],
      "source": [
        "# Configuration API\n",
        "API_KEY = os.getenv(\"API_KEY_TEST\")  # Remplacez par votre vraie clé\n",
        "BASE_URL = \"http://api.openweathermap.org/data/2.5\"\n",
        "\n",
        "# Villes à analyser (agriculture européenne)\n",
        "CITIES = [\"Paris\", \"Berlin\", \"Madrid\", \"Rome, Lazio\", \"Amsterdam\", \"Vienna\"]"
      ]
    },
    {
      "cell_type": "markdown",
      "metadata": {
        "id": "jUpfp5TW2mY_"
      },
      "source": []
    },
    {
      "cell_type": "markdown",
      "metadata": {
        "id": "XN6RPmCr2qDp"
      },
      "source": [
        "**Questions de débogage :**\n",
        "- Que faire si l'API retourne une erreur 401 ?\n",
        "- Comment gérer une ville introuvable ?\n",
        "\n",
        "---"
      ]
    },
    {
      "cell_type": "markdown",
      "metadata": {
        "id": "KL0MS3RJ263K"
      },
      "source": [
        "## Partie 2 : API complémentaire - Données historiques\n",
        "\n",
        "### 📊 API Visual Crossing Weather (gratuite)\n",
        "Alternative avec 1000 appels/jour gratuits : [visualcrossing.com](https://www.visualcrossing.com/weather-api)"
      ]
    },
    {
      "cell_type": "code",
      "execution_count": null,
      "metadata": {
        "id": "6OK5bXQy0srW"
      },
      "outputs": [],
      "source": [
        "# Configuration Visual Crossing\n",
        "VC_API_KEY = os.getenv(\"API_KEY2\")\n",
        "VC_BASE_URL = \"https://weather.visualcrossing.com/VisualCrossingWebServices/rest/services/timeline\"\n",
        "\n",
        "def get_historical_weather(city, start_date, end_date, api_key):\n",
        "    \"\"\"\n",
        "    Récupère les données météo historiques\n",
        "\n",
        "    Défis à résoudre :\n",
        "    1. Construire l'URL avec les dates\n",
        "    2. Gérer la pagination si nécessaire\n",
        "    3. Extraire les données pertinentes du JSON complexe\n",
        "    4. Convertir en DataFrame pandas\n",
        "    \"\"\"\n",
        "\n",
        "    url = f\"{VC_BASE_URL}/{city}/{start_date}/{end_date}\"\n",
        "    params = {\n",
        "        'key': api_key,\n",
        "        'include': 'days',\n",
        "        'elements': 'datetime,temp,humidity,precip,windspeed,pressure'\n",
        "    }\n",
        "    try :\n",
        "        respo = requests.get(url, params=params)\n",
        "        respo.raise_for_status()\n",
        "        historical_data =  respo.json()\n",
        "        return historical_data\n",
        "\n",
        "    except requests.exceptions.HTTPError as http_err :\n",
        "        if respo.raise_for_status == 404 :\n",
        "         print(f\"the city {city} is not found!\")\n",
        "        else :\n",
        "            print(f\"HTTP error is occurred : {http_err}\")\n",
        "    except Exception as err :\n",
        "        print(\"unexpected error {err}\")\n",
        "        return None"
      ]
    },
    {
      "cell_type": "code",
      "execution_count": null,
      "metadata": {},
      "outputs": [
        {
          "name": "stdout",
          "output_type": "stream",
          "text": [
            "2025-07-22\n"
          ]
        }
      ],
      "source": [
        "today = date.today()\n",
        "# print(type(today))\n",
        "last_week = today - timedelta(days=7)\n",
        "print(last_week)\n",
        "histo_data_json = get_historical_weather(\"Paris\", last_week, today, VC_API_KEY)"
      ]
    },
    {
      "cell_type": "code",
      "execution_count": 29,
      "metadata": {},
      "outputs": [],
      "source": [
        "historical_weather = []\n",
        "heart_json = histo_data_json['days']\n",
        "\n",
        "for day in heart_json :\n",
        "    historical_weather.append({\n",
        "            \"date\": day[\"datetime\"],           # Date of the record\n",
        "            \"temperature\": day[\"temp\"],        # Average temperature\n",
        "            \"humidity\": day[\"humidity\"],       # Humidity percentage\n",
        "            \"precipitation\": day[\"precip\"],    # Precipitation amount\n",
        "            \"wind_speed\": day[\"windspeed\"],    # Wind speed\n",
        "            \"pressure\": day[\"pressure\"]        # Atmospheric pressure\n",
        "    })\n",
        "    \n",
        "    df_historical_weather = pd.DataFrame(historical_weather)\n"
      ]
    },
    {
      "cell_type": "code",
      "execution_count": 30,
      "metadata": {},
      "outputs": [
        {
          "data": {
            "text/html": [
              "<div>\n",
              "<style scoped>\n",
              "    .dataframe tbody tr th:only-of-type {\n",
              "        vertical-align: middle;\n",
              "    }\n",
              "\n",
              "    .dataframe tbody tr th {\n",
              "        vertical-align: top;\n",
              "    }\n",
              "\n",
              "    .dataframe thead th {\n",
              "        text-align: right;\n",
              "    }\n",
              "</style>\n",
              "<table border=\"1\" class=\"dataframe\">\n",
              "  <thead>\n",
              "    <tr style=\"text-align: right;\">\n",
              "      <th></th>\n",
              "      <th>date</th>\n",
              "      <th>temperature</th>\n",
              "      <th>humidity</th>\n",
              "      <th>precipitation</th>\n",
              "      <th>wind_speed</th>\n",
              "      <th>pressure</th>\n",
              "    </tr>\n",
              "  </thead>\n",
              "  <tbody>\n",
              "    <tr>\n",
              "      <th>0</th>\n",
              "      <td>2025-07-22</td>\n",
              "      <td>66.6</td>\n",
              "      <td>71.0</td>\n",
              "      <td>0.002</td>\n",
              "      <td>10.4</td>\n",
              "      <td>1013.4</td>\n",
              "    </tr>\n",
              "    <tr>\n",
              "      <th>1</th>\n",
              "      <td>2025-07-23</td>\n",
              "      <td>66.6</td>\n",
              "      <td>74.3</td>\n",
              "      <td>0.079</td>\n",
              "      <td>8.4</td>\n",
              "      <td>1013.8</td>\n",
              "    </tr>\n",
              "    <tr>\n",
              "      <th>2</th>\n",
              "      <td>2025-07-24</td>\n",
              "      <td>65.2</td>\n",
              "      <td>83.8</td>\n",
              "      <td>0.489</td>\n",
              "      <td>9.6</td>\n",
              "      <td>1014.9</td>\n",
              "    </tr>\n",
              "    <tr>\n",
              "      <th>3</th>\n",
              "      <td>2025-07-25</td>\n",
              "      <td>69.3</td>\n",
              "      <td>72.8</td>\n",
              "      <td>0.000</td>\n",
              "      <td>7.6</td>\n",
              "      <td>1017.7</td>\n",
              "    </tr>\n",
              "    <tr>\n",
              "      <th>4</th>\n",
              "      <td>2025-07-26</td>\n",
              "      <td>70.6</td>\n",
              "      <td>67.6</td>\n",
              "      <td>0.000</td>\n",
              "      <td>10.0</td>\n",
              "      <td>1018.2</td>\n",
              "    </tr>\n",
              "    <tr>\n",
              "      <th>5</th>\n",
              "      <td>2025-07-27</td>\n",
              "      <td>65.9</td>\n",
              "      <td>78.8</td>\n",
              "      <td>0.221</td>\n",
              "      <td>14.4</td>\n",
              "      <td>1016.4</td>\n",
              "    </tr>\n",
              "    <tr>\n",
              "      <th>6</th>\n",
              "      <td>2025-07-28</td>\n",
              "      <td>66.0</td>\n",
              "      <td>65.9</td>\n",
              "      <td>0.000</td>\n",
              "      <td>8.6</td>\n",
              "      <td>1019.9</td>\n",
              "    </tr>\n",
              "    <tr>\n",
              "      <th>7</th>\n",
              "      <td>2025-07-29</td>\n",
              "      <td>63.9</td>\n",
              "      <td>73.1</td>\n",
              "      <td>0.020</td>\n",
              "      <td>9.2</td>\n",
              "      <td>1020.4</td>\n",
              "    </tr>\n",
              "  </tbody>\n",
              "</table>\n",
              "</div>"
            ],
            "text/plain": [
              "         date  temperature  humidity  precipitation  wind_speed  pressure\n",
              "0  2025-07-22         66.6      71.0          0.002        10.4    1013.4\n",
              "1  2025-07-23         66.6      74.3          0.079         8.4    1013.8\n",
              "2  2025-07-24         65.2      83.8          0.489         9.6    1014.9\n",
              "3  2025-07-25         69.3      72.8          0.000         7.6    1017.7\n",
              "4  2025-07-26         70.6      67.6          0.000        10.0    1018.2\n",
              "5  2025-07-27         65.9      78.8          0.221        14.4    1016.4\n",
              "6  2025-07-28         66.0      65.9          0.000         8.6    1019.9\n",
              "7  2025-07-29         63.9      73.1          0.020         9.2    1020.4"
            ]
          },
          "execution_count": 30,
          "metadata": {},
          "output_type": "execute_result"
        }
      ],
      "source": [
        "df_historical_weather.head(10)"
      ]
    },
    {
      "cell_type": "markdown",
      "metadata": {
        "id": "WiSgjF2V3JOv"
      },
      "source": [
        "### 🎯 Mission pratique\n",
        "Récupérez les données des 7 derniers jours pour toutes vos villes et créez un DataFrame consolidé.\n",
        "\n",
        "**Structure attendue :**\n",
        "```\n",
        "| date       | ville     | temperature | humidite | precipitation | vent |\n",
        "|------------|-----------|-------------|----------|---------------|------|\n",
        "| 2024-01-01 | Paris     | 12.5        | 75       | 2.3          | 15   |\n",
        "```\n",
        "\n",
        "---\n"
      ]
    },
    {
      "cell_type": "code",
      "execution_count": 69,
      "metadata": {
        "id": "iR8RHaqM0suN"
      },
      "outputs": [
        {
          "name": "stdout",
          "output_type": "stream",
          "text": [
            "    city  aqi      co    no   no2     o3   so2  pm2_5  pm10   nh3\n",
            "0  Paris    2  115.82  0.07  0.68  75.91  0.13   1.12  1.43  0.98\n"
          ]
        }
      ],
      "source": [
        "\n",
        "# Load API key\n",
        "load_dotenv()\n",
        "API_KEY = os.getenv(\"API_KEY\")\n",
        "\n",
        "# Step 1: Get coordinates\n",
        "def get_coordinates(city_name):\n",
        "    url = \"http://api.openweathermap.org/geo/1.0/direct\"\n",
        "    params = {\"q\": city_name, \"limit\": 1, \"appid\": API_KEY}\n",
        "    try:\n",
        "        response = requests.get(url, params=params)\n",
        "        response.raise_for_status()\n",
        "        data = response.json()\n",
        "        if data:\n",
        "            return data[0][\"lat\"], data[0][\"lon\"]\n",
        "        else:\n",
        "            print(f\"[!] No coordinates found for {city_name}\")\n",
        "            return None, None\n",
        "    except Exception as e:\n",
        "        print(f\"[ERROR] Failed to get coordinates for {city_name}: {e}\")\n",
        "        return None, None\n",
        "\n",
        "# Step 2: Get air quality\n",
        "def get_air_quality(city, lat, lon):\n",
        "    BASE_URL = \"http://api.openweathermap.org/data/2.5/air_pollution\"\n",
        "    params = {\n",
        "        \"lat\": lat,\n",
        "        \"lon\": lon,\n",
        "        \"appid\": API_KEY\n",
        "    }\n",
        "\n",
        "    try:\n",
        "        resp = requests.get(BASE_URL, params=params)\n",
        "        resp.raise_for_status()\n",
        "        air_q = resp.json()\n",
        "\n",
        "        # Extract useful info\n",
        "        air_info = []\n",
        "        for i in air_q.get(\"list\", []):\n",
        "            aqi = i.get(\"main\", {}).get(\"aqi\")\n",
        "            components = i.get(\"components\", {})\n",
        "            entry = {\n",
        "                \"city\": city,\n",
        "                \"aqi\": aqi,\n",
        "                **components\n",
        "            }\n",
        "            air_info.append(entry)\n",
        "\n",
        "        df = pd.DataFrame(air_info)\n",
        "        print(df)\n",
        "        return df\n",
        "\n",
        "    except requests.exceptions.HTTPError as http_err:\n",
        "        if resp.status_code == 404:\n",
        "            print(f\"City not found for coordinates ({lat}, {lon})!\")\n",
        "        else:\n",
        "            print(f\"HTTP error occurred: {http_err}\")\n",
        "    except Exception as err:\n",
        "        print(f\"Unexpected error: {err}\")\n",
        "\n",
        "# Example usage\n",
        "city = \"Paris\"\n",
        "lat, lon = get_coordinates(city)\n",
        "if lat and lon:\n",
        "    get_air_quality(city, lat, lon)\n"
      ]
    },
    {
      "cell_type": "code",
      "execution_count": 62,
      "metadata": {},
      "outputs": [],
      "source": [
        "        # cities_a_q = []\n",
        "        # for city in CITIES :\n",
        "        #     if lat and lon in air_q :\n",
        "        #         info = air_q[\"list\"][0]\n",
        "        #         components = info[\"components\"]\n",
        "        #         cities_a_q.append({\n",
        "        #         \"city\": city,\n",
        "        #         \"lat\": lat,\n",
        "        #         \"lon\": lon,\n",
        "        #         \"aqi\": info[\"main\"][\"aqi\"],\n",
        "        #         \"co\": components.get(\"co\"),\n",
        "        #         \"no\": components.get(\"no\"),\n",
        "        #         \"no2\": components.get(\"no2\"),\n",
        "        #         \"o3\": components.get(\"o3\"),\n",
        "        #         \"so2\": components.get(\"so2\"),\n",
        "        #         \"pm2_5\": components.get(\"pm2_5\"),\n",
        "        #         \"pm10\": components.get(\"pm10\"),\n",
        "        #         \"nh3\": components.get(\"nh3\")\n",
        "        #         })\n",
        "        #     else:\n",
        "        #         print(f\"[!] No AQI data for {city}\")"
      ]
    },
    {
      "cell_type": "code",
      "execution_count": null,
      "metadata": {
        "id": "V0DOb0363VJU"
      },
      "outputs": [],
      "source": [
        "### 🗺️ Obtenir les coordonnées\n",
        "def get_city_coordinates(city, api_key):\n",
        "    \"\"\"\n",
        "    Utilise l'API Geocoding d'OpenWeatherMap\n",
        "    URL : http://api.openweathermap.org/geo/1.0/direct\n",
        "\n",
        "    Récupérez lat/lon pour chaque ville\n",
        "    \"\"\"\n",
        "    pass\n"
      ]
    },
    {
      "cell_type": "markdown",
      "metadata": {
        "id": "v02lzUOv3kp6"
      },
      "source": [
        "\n",
        "## Partie 4 : Analyse et visualisation\n",
        "\n",
        "### 📈 Analyses à réaliser\n",
        "\n",
        "1. **Comparaison inter-villes**\n",
        "   - Températures moyennes par ville\n",
        "   - Variabilité climatique (écart-type)\n",
        "   - Corrélations température/humidité\n",
        "\n",
        "2. **Tendances temporelles**\n",
        "   - Évolution sur 30 jours\n",
        "   - Identification des patterns\n",
        "\n",
        "3. **Qualité de l'air vs météo**\n",
        "   - Impact de la pluie sur la pollution\n",
        "   - Corrélations vent/qualité de l'air"
      ]
    },
    {
      "cell_type": "code",
      "execution_count": 11,
      "metadata": {
        "colab": {
          "base_uri": "https://localhost:8080/",
          "height": 51
        },
        "id": "IQb6JSIp3VSD",
        "outputId": "542a1e6a-381e-40c4-a65a-c21522e3b42d"
      },
      "outputs": [
        {
          "data": {
            "text/plain": [
              "<Figure size 1500x800 with 0 Axes>"
            ]
          },
          "execution_count": 11,
          "metadata": {},
          "output_type": "execute_result"
        },
        {
          "data": {
            "text/plain": [
              "<Figure size 1500x800 with 0 Axes>"
            ]
          },
          "metadata": {},
          "output_type": "display_data"
        }
      ],
      "source": [
        "### 💡 Visualisations guidées\n",
        "\n",
        "# 1. Heatmap des températures par ville et jour\n",
        "plt.figure(figsize=(15, 8))\n",
        "\n",
        "# Créez un pivot table : villes en colonnes, dates en lignes\n",
        "# Utilisez seaborn.heatmap()\n",
        "\n",
        "# 2. Boxplot comparatif des précipitations\n",
        "# Utilisez seaborn.boxplot()\n",
        "\n",
        "# 3. Scatter plot qualité air vs température\n",
        "# Ajoutez une regression line avec seaborn.regplot()\n",
        "\n"
      ]
    },
    {
      "cell_type": "markdown",
      "metadata": {
        "id": "U3OFGeR437l0"
      },
      "source": [
        "## Partie 5 : API bonus - Données agricoles\n",
        "\n",
        "### 🌱 API AgroMonitoring (gratuite)"
      ]
    },
    {
      "cell_type": "code",
      "execution_count": null,
      "metadata": {
        "id": "9PZMkaLO3zAK"
      },
      "outputs": [],
      "source": [
        "# API satellite pour l'agriculture\n",
        "AGRO_API_KEY = \"VOTRE_CLE_AGROMONITORING\"\n",
        "\n",
        "def get_soil_data(polygon_coordinates, api_key):\n",
        "    \"\"\"\n",
        "    Récupère des données de sol via satellite\n",
        "    URL : http://api.agromonitoring.com/agro/1.0/\n",
        "\n",
        "    Données disponibles :\n",
        "    - Indices de végétation (NDVI)\n",
        "    - Humidité du sol\n",
        "    - Température de surface\n",
        "    \"\"\"\n",
        "    pass\n"
      ]
    },
    {
      "cell_type": "markdown",
      "metadata": {
        "id": "9U_DNqp24DD6"
      },
      "source": [
        "\n",
        "**Défi avancé :** Créez des recommandations de plantation basées sur :\n",
        "- Données météo des 30 derniers jours\n",
        "- Prévisions à 5 jours\n",
        "- Qualité de l'air\n",
        "- Indices de végétation satellite\n",
        "\n"
      ]
    },
    {
      "cell_type": "markdown",
      "metadata": {
        "id": "W15DybdE4Ksu"
      },
      "source": [
        "## 🏆 Livrables attendus\n",
        "\n",
        "### 📊 Dashboard météo\n",
        "Créez un tableau de bord contenant :\n",
        "1. **Aperçu temps réel** des 6 villes\n",
        "2. **Graphiques de tendances** sur 30 jours\n",
        "3. **Alertes qualité de l'air** (AQI > 100)\n",
        "4. **Recommandations agricoles** par ville"
      ]
    },
    {
      "cell_type": "code",
      "execution_count": 12,
      "metadata": {
        "id": "46lA8m084ULP"
      },
      "outputs": [],
      "source": [
        "### 📱 Format de présentation\n",
        "\n",
        "def generate_weather_report(city_data):\n",
        "    \"\"\"\n",
        "    Génère un rapport automatisé\n",
        "\n",
        "    Format :\n",
        "    - Résumé exécutif (3 lignes)\n",
        "    - Métriques clés (tableaux)\n",
        "    - Graphiques (4 visualisations)\n",
        "    - Recommandations (bullet points)\n",
        "    \"\"\"\n",
        "    pass"
      ]
    },
    {
      "cell_type": "markdown",
      "metadata": {
        "id": "eqxVMuuh4Qsq"
      },
      "source": [
        "---\n",
        "\n",
        "## 🎓 Critères d'évaluation\n",
        "\n",
        "- [ ] **APIs fonctionnelles** : Toutes les connexions API marchent\n",
        "- [ ] **Gestion d'erreurs** : Code robuste avec try/except\n",
        "- [ ] **Qualité des données** : Validation et nettoyage\n",
        "- [ ] **Visualisations** : Graphiques informatifs et esthétiques\n",
        "- [ ] **Insights business** : Recommandations basées sur les données\n",
        "\n",
        "### 🔗 Préparation au Notebook 2\n",
        "Le prochain notebook utilisera une vraie base de données PostgreSQL hébergée pour analyser des données de ventes e-commerce, en croisant avec vos données météo pour des analyses géolocalisées.\n",
        "\n",
        "### 📚 APIs alternatives (si quotas dépassés)\n",
        "- **WeatherAPI** : 1M appels/mois gratuits\n",
        "- **AccuWeather** : 50 appels/jour gratuits  \n",
        "- **Climatiq** : Données climat et carbone\n",
        "- **NASA APIs** : Données satellite gratuites"
      ]
    }
  ],
  "metadata": {
    "colab": {
      "provenance": []
    },
    "kernelspec": {
      "display_name": ".venv",
      "language": "python",
      "name": "python3"
    },
    "language_info": {
      "codemirror_mode": {
        "name": "ipython",
        "version": 3
      },
      "file_extension": ".py",
      "mimetype": "text/x-python",
      "name": "python",
      "nbconvert_exporter": "python",
      "pygments_lexer": "ipython3",
      "version": "3.13.3"
    }
  },
  "nbformat": 4,
  "nbformat_minor": 0
}
